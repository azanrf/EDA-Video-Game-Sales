{
 "cells": [
  {
   "cell_type": "markdown",
   "id": "9c0b7993-0fea-4228-8ca8-231262361823",
   "metadata": {
    "tags": []
   },
   "source": [
    "# Exploratory Data Analysis (Video Game Sales)\n",
    "\n",
    "Melakukan analisa terhadap hasil penjualan game dari berbagai perusahaan, berbagai jenis game, dan berbagai platform game yang digunakan dari tahun 1980 sehingga mendapatkan kesimpulan hasil penjualan dari tahun ke tahun berdasarkan penjualan secara regional dan global."
   ]
  },
  {
   "cell_type": "code",
   "execution_count": 1,
   "id": "17562e3f-9e7e-4603-8d4e-61c5d2158512",
   "metadata": {},
   "outputs": [],
   "source": [
    "import warnings\n",
    "warnings.filterwarnings('ignore')"
   ]
  },
  {
   "cell_type": "markdown",
   "id": "cb1d5072-74d8-45a7-bb4c-e80754c0391d",
   "metadata": {
    "jp-MarkdownHeadingCollapsed": true,
    "tags": []
   },
   "source": [
    "# Data Processing"
   ]
  },
  {
   "cell_type": "code",
   "execution_count": 2,
   "id": "6a8c02ca-b3cc-4699-a173-dbc7edb66d07",
   "metadata": {},
   "outputs": [],
   "source": [
    "#Import library\n",
    "import pandas as pd\n",
    "import numpy as np\n",
    "import matplotlib.pyplot as plt\n",
    "import seaborn as sns\n",
    "import os"
   ]
  },
  {
   "cell_type": "code",
   "execution_count": 3,
   "id": "613805e2-fa30-4ffd-a301-5603ad6bff8e",
   "metadata": {},
   "outputs": [
    {
     "data": {
      "text/html": [
       "<div>\n",
       "<style scoped>\n",
       "    .dataframe tbody tr th:only-of-type {\n",
       "        vertical-align: middle;\n",
       "    }\n",
       "\n",
       "    .dataframe tbody tr th {\n",
       "        vertical-align: top;\n",
       "    }\n",
       "\n",
       "    .dataframe thead th {\n",
       "        text-align: right;\n",
       "    }\n",
       "</style>\n",
       "<table border=\"1\" class=\"dataframe\">\n",
       "  <thead>\n",
       "    <tr style=\"text-align: right;\">\n",
       "      <th></th>\n",
       "      <th>Rank</th>\n",
       "      <th>Name</th>\n",
       "      <th>Platform</th>\n",
       "      <th>Year</th>\n",
       "      <th>Genre</th>\n",
       "      <th>Publisher</th>\n",
       "      <th>NA_Sales</th>\n",
       "      <th>EU_Sales</th>\n",
       "      <th>JP_Sales</th>\n",
       "      <th>Other_Sales</th>\n",
       "      <th>Global_Sales</th>\n",
       "    </tr>\n",
       "  </thead>\n",
       "  <tbody>\n",
       "    <tr>\n",
       "      <th>0</th>\n",
       "      <td>1</td>\n",
       "      <td>Wii Sports</td>\n",
       "      <td>Wii</td>\n",
       "      <td>2006.0</td>\n",
       "      <td>Sports</td>\n",
       "      <td>Nintendo</td>\n",
       "      <td>41.49</td>\n",
       "      <td>29.02</td>\n",
       "      <td>3.77</td>\n",
       "      <td>8.46</td>\n",
       "      <td>82.74</td>\n",
       "    </tr>\n",
       "    <tr>\n",
       "      <th>1</th>\n",
       "      <td>2</td>\n",
       "      <td>Super Mario Bros.</td>\n",
       "      <td>NES</td>\n",
       "      <td>1985.0</td>\n",
       "      <td>Platform</td>\n",
       "      <td>Nintendo</td>\n",
       "      <td>29.08</td>\n",
       "      <td>3.58</td>\n",
       "      <td>6.81</td>\n",
       "      <td>0.77</td>\n",
       "      <td>40.24</td>\n",
       "    </tr>\n",
       "    <tr>\n",
       "      <th>2</th>\n",
       "      <td>3</td>\n",
       "      <td>Mario Kart Wii</td>\n",
       "      <td>Wii</td>\n",
       "      <td>2008.0</td>\n",
       "      <td>Racing</td>\n",
       "      <td>Nintendo</td>\n",
       "      <td>15.85</td>\n",
       "      <td>12.88</td>\n",
       "      <td>3.79</td>\n",
       "      <td>3.31</td>\n",
       "      <td>35.82</td>\n",
       "    </tr>\n",
       "    <tr>\n",
       "      <th>3</th>\n",
       "      <td>4</td>\n",
       "      <td>Wii Sports Resort</td>\n",
       "      <td>Wii</td>\n",
       "      <td>2009.0</td>\n",
       "      <td>Sports</td>\n",
       "      <td>Nintendo</td>\n",
       "      <td>15.75</td>\n",
       "      <td>11.01</td>\n",
       "      <td>3.28</td>\n",
       "      <td>2.96</td>\n",
       "      <td>33.00</td>\n",
       "    </tr>\n",
       "    <tr>\n",
       "      <th>4</th>\n",
       "      <td>5</td>\n",
       "      <td>Pokemon Red/Pokemon Blue</td>\n",
       "      <td>GB</td>\n",
       "      <td>1996.0</td>\n",
       "      <td>Role-Playing</td>\n",
       "      <td>Nintendo</td>\n",
       "      <td>11.27</td>\n",
       "      <td>8.89</td>\n",
       "      <td>10.22</td>\n",
       "      <td>1.00</td>\n",
       "      <td>31.37</td>\n",
       "    </tr>\n",
       "  </tbody>\n",
       "</table>\n",
       "</div>"
      ],
      "text/plain": [
       "   Rank                      Name Platform    Year         Genre Publisher  \\\n",
       "0     1                Wii Sports      Wii  2006.0        Sports  Nintendo   \n",
       "1     2         Super Mario Bros.      NES  1985.0      Platform  Nintendo   \n",
       "2     3            Mario Kart Wii      Wii  2008.0        Racing  Nintendo   \n",
       "3     4         Wii Sports Resort      Wii  2009.0        Sports  Nintendo   \n",
       "4     5  Pokemon Red/Pokemon Blue       GB  1996.0  Role-Playing  Nintendo   \n",
       "\n",
       "   NA_Sales  EU_Sales  JP_Sales  Other_Sales  Global_Sales  \n",
       "0     41.49     29.02      3.77         8.46         82.74  \n",
       "1     29.08      3.58      6.81         0.77         40.24  \n",
       "2     15.85     12.88      3.79         3.31         35.82  \n",
       "3     15.75     11.01      3.28         2.96         33.00  \n",
       "4     11.27      8.89     10.22         1.00         31.37  "
      ]
     },
     "execution_count": 3,
     "metadata": {},
     "output_type": "execute_result"
    }
   ],
   "source": [
    "#Masukkan data\n",
    "df = pd.read_csv(\"vgsales.csv\")\n",
    "df.head(5)"
   ]
  },
  {
   "cell_type": "code",
   "execution_count": 4,
   "id": "7f4034f6-cc62-44e1-98a5-f2d04e7917fb",
   "metadata": {},
   "outputs": [
    {
     "name": "stdout",
     "output_type": "stream",
     "text": [
      "<class 'pandas.core.frame.DataFrame'>\n",
      "RangeIndex: 16598 entries, 0 to 16597\n",
      "Data columns (total 11 columns):\n",
      " #   Column        Non-Null Count  Dtype  \n",
      "---  ------        --------------  -----  \n",
      " 0   Rank          16598 non-null  int64  \n",
      " 1   Name          16598 non-null  object \n",
      " 2   Platform      16598 non-null  object \n",
      " 3   Year          16327 non-null  float64\n",
      " 4   Genre         16598 non-null  object \n",
      " 5   Publisher     16540 non-null  object \n",
      " 6   NA_Sales      16598 non-null  float64\n",
      " 7   EU_Sales      16598 non-null  float64\n",
      " 8   JP_Sales      16598 non-null  float64\n",
      " 9   Other_Sales   16598 non-null  float64\n",
      " 10  Global_Sales  16598 non-null  float64\n",
      "dtypes: float64(6), int64(1), object(4)\n",
      "memory usage: 1.4+ MB\n"
     ]
    },
    {
     "data": {
      "text/plain": [
       "(16598, 11)"
      ]
     },
     "execution_count": 4,
     "metadata": {},
     "output_type": "execute_result"
    }
   ],
   "source": [
    "#Cek informasi data\n",
    "df.info()\n",
    "df.shape"
   ]
  },
  {
   "cell_type": "markdown",
   "id": "afe03b45-90f7-450e-940c-8769aa95336f",
   "metadata": {},
   "source": [
    "Pada data diatas, terdapat 11 kolom dan 16291 baris data yang berisikan informasi sebagai berikut:\n",
    "\n",
    "- Rank = Peringkat Penjualan\n",
    "- Name = Nama Game\n",
    "- Platform = Jenis Perangkat Permainan\n",
    "- Year = Tahun Rilis\n",
    "- Genre = Jenis Permainan\n",
    "- Publisher = Perusahaan yang merilis permainan\n",
    "- NA_Sales = Penjualan di North America (dalam jutaan dollar)\n",
    "- EU_Sales = Penjualan di Europa (dalam jutaan dollar)\n",
    "- JP_Sales = Penjualan di Japan (dalam jutaan dollar)\n",
    "- Other_Sales = Penjualan dibenua/ negara lain (dalam jutaan dollar)\n",
    "- Global_Sales = Total Penjualan didunia (dalam jutaan dollar)\n",
    "\n",
    "Namun, pada keterangan tahun rilis tidak seharusnya dalam bentuk Float (seperti pada baris pertama yaitu 2006.0, sehingga data dari tahun rilis akan diubah nantinya agar memudahkan proses analisa."
   ]
  },
  {
   "cell_type": "code",
   "execution_count": 5,
   "id": "50f1aa25-3c32-49e8-9577-3e5a40c000df",
   "metadata": {},
   "outputs": [
    {
     "data": {
      "text/plain": [
       "Rank              0\n",
       "Name              0\n",
       "Platform          0\n",
       "Year            271\n",
       "Genre             0\n",
       "Publisher        58\n",
       "NA_Sales          0\n",
       "EU_Sales          0\n",
       "JP_Sales          0\n",
       "Other_Sales       0\n",
       "Global_Sales      0\n",
       "dtype: int64"
      ]
     },
     "execution_count": 5,
     "metadata": {},
     "output_type": "execute_result"
    }
   ],
   "source": [
    "#Periksa data yang hilang\n",
    "df.isnull().sum()"
   ]
  },
  {
   "cell_type": "code",
   "execution_count": 6,
   "id": "a1fda088-1089-40ed-831c-2dba989fc717",
   "metadata": {},
   "outputs": [
    {
     "data": {
      "text/plain": [
       "Rank            0.000000\n",
       "Name            0.000000\n",
       "Platform        0.000000\n",
       "Year            1.632727\n",
       "Genre           0.000000\n",
       "Publisher       0.349440\n",
       "NA_Sales        0.000000\n",
       "EU_Sales        0.000000\n",
       "JP_Sales        0.000000\n",
       "Other_Sales     0.000000\n",
       "Global_Sales    0.000000\n",
       "dtype: float64"
      ]
     },
     "execution_count": 6,
     "metadata": {},
     "output_type": "execute_result"
    }
   ],
   "source": [
    "#Periksa data yang hilang\n",
    "df.isnull().mean()*100"
   ]
  },
  {
   "cell_type": "markdown",
   "id": "8b203586-138c-403e-bf65-2699a12fc309",
   "metadata": {},
   "source": [
    "Pada data tersebut, terdapat 271 game yang tidak memiliki tahun rilis (1.6%) dan 58 game yang tidak tahu diproduksi oleh perusahaan apa (0.3%) dengan total keseluruhan sebesar 1.9% data yang hilang. Data tersebut akan dihapus dan dihilangkan agar memudahkan proses analisa lebih lanjut."
   ]
  },
  {
   "cell_type": "code",
   "execution_count": 7,
   "id": "a437c3f8-807e-420c-8216-cd98957593dc",
   "metadata": {},
   "outputs": [
    {
     "data": {
      "text/plain": [
       "Rank            0\n",
       "Name            0\n",
       "Platform        0\n",
       "Year            0\n",
       "Genre           0\n",
       "Publisher       0\n",
       "NA_Sales        0\n",
       "EU_Sales        0\n",
       "JP_Sales        0\n",
       "Other_Sales     0\n",
       "Global_Sales    0\n",
       "dtype: int64"
      ]
     },
     "execution_count": 7,
     "metadata": {},
     "output_type": "execute_result"
    }
   ],
   "source": [
    "#Menghapus data yang hilang\n",
    "df.dropna(inplace=True)\n",
    "df.isnull().sum()"
   ]
  },
  {
   "cell_type": "code",
   "execution_count": 8,
   "id": "4c9ffee2-c5f1-4681-b069-5ee28591a77a",
   "metadata": {},
   "outputs": [],
   "source": [
    "#Indexing data berdasarkan ranking\n",
    "df=df.set_index('Rank')"
   ]
  },
  {
   "cell_type": "code",
   "execution_count": 9,
   "id": "cd26714c-0dcb-412a-b70b-1cc2c89e7a0d",
   "metadata": {},
   "outputs": [
    {
     "data": {
      "text/html": [
       "<div>\n",
       "<style scoped>\n",
       "    .dataframe tbody tr th:only-of-type {\n",
       "        vertical-align: middle;\n",
       "    }\n",
       "\n",
       "    .dataframe tbody tr th {\n",
       "        vertical-align: top;\n",
       "    }\n",
       "\n",
       "    .dataframe thead th {\n",
       "        text-align: right;\n",
       "    }\n",
       "</style>\n",
       "<table border=\"1\" class=\"dataframe\">\n",
       "  <thead>\n",
       "    <tr style=\"text-align: right;\">\n",
       "      <th></th>\n",
       "      <th>Name</th>\n",
       "      <th>Platform</th>\n",
       "      <th>Year</th>\n",
       "      <th>Genre</th>\n",
       "      <th>Publisher</th>\n",
       "      <th>NA_Sales</th>\n",
       "      <th>EU_Sales</th>\n",
       "      <th>JP_Sales</th>\n",
       "      <th>Other_Sales</th>\n",
       "      <th>Global_Sales</th>\n",
       "    </tr>\n",
       "    <tr>\n",
       "      <th>Rank</th>\n",
       "      <th></th>\n",
       "      <th></th>\n",
       "      <th></th>\n",
       "      <th></th>\n",
       "      <th></th>\n",
       "      <th></th>\n",
       "      <th></th>\n",
       "      <th></th>\n",
       "      <th></th>\n",
       "      <th></th>\n",
       "    </tr>\n",
       "  </thead>\n",
       "  <tbody>\n",
       "    <tr>\n",
       "      <th>1</th>\n",
       "      <td>Wii Sports</td>\n",
       "      <td>Wii</td>\n",
       "      <td>2006</td>\n",
       "      <td>Sports</td>\n",
       "      <td>Nintendo</td>\n",
       "      <td>41.49</td>\n",
       "      <td>29.02</td>\n",
       "      <td>3.77</td>\n",
       "      <td>8.46</td>\n",
       "      <td>82.74</td>\n",
       "    </tr>\n",
       "    <tr>\n",
       "      <th>2</th>\n",
       "      <td>Super Mario Bros.</td>\n",
       "      <td>NES</td>\n",
       "      <td>1985</td>\n",
       "      <td>Platform</td>\n",
       "      <td>Nintendo</td>\n",
       "      <td>29.08</td>\n",
       "      <td>3.58</td>\n",
       "      <td>6.81</td>\n",
       "      <td>0.77</td>\n",
       "      <td>40.24</td>\n",
       "    </tr>\n",
       "    <tr>\n",
       "      <th>3</th>\n",
       "      <td>Mario Kart Wii</td>\n",
       "      <td>Wii</td>\n",
       "      <td>2008</td>\n",
       "      <td>Racing</td>\n",
       "      <td>Nintendo</td>\n",
       "      <td>15.85</td>\n",
       "      <td>12.88</td>\n",
       "      <td>3.79</td>\n",
       "      <td>3.31</td>\n",
       "      <td>35.82</td>\n",
       "    </tr>\n",
       "    <tr>\n",
       "      <th>4</th>\n",
       "      <td>Wii Sports Resort</td>\n",
       "      <td>Wii</td>\n",
       "      <td>2009</td>\n",
       "      <td>Sports</td>\n",
       "      <td>Nintendo</td>\n",
       "      <td>15.75</td>\n",
       "      <td>11.01</td>\n",
       "      <td>3.28</td>\n",
       "      <td>2.96</td>\n",
       "      <td>33.00</td>\n",
       "    </tr>\n",
       "    <tr>\n",
       "      <th>5</th>\n",
       "      <td>Pokemon Red/Pokemon Blue</td>\n",
       "      <td>GB</td>\n",
       "      <td>1996</td>\n",
       "      <td>Role-Playing</td>\n",
       "      <td>Nintendo</td>\n",
       "      <td>11.27</td>\n",
       "      <td>8.89</td>\n",
       "      <td>10.22</td>\n",
       "      <td>1.00</td>\n",
       "      <td>31.37</td>\n",
       "    </tr>\n",
       "  </tbody>\n",
       "</table>\n",
       "</div>"
      ],
      "text/plain": [
       "                          Name Platform  Year         Genre Publisher  \\\n",
       "Rank                                                                    \n",
       "1                   Wii Sports      Wii  2006        Sports  Nintendo   \n",
       "2            Super Mario Bros.      NES  1985      Platform  Nintendo   \n",
       "3               Mario Kart Wii      Wii  2008        Racing  Nintendo   \n",
       "4            Wii Sports Resort      Wii  2009        Sports  Nintendo   \n",
       "5     Pokemon Red/Pokemon Blue       GB  1996  Role-Playing  Nintendo   \n",
       "\n",
       "      NA_Sales  EU_Sales  JP_Sales  Other_Sales  Global_Sales  \n",
       "Rank                                                           \n",
       "1        41.49     29.02      3.77         8.46         82.74  \n",
       "2        29.08      3.58      6.81         0.77         40.24  \n",
       "3        15.85     12.88      3.79         3.31         35.82  \n",
       "4        15.75     11.01      3.28         2.96         33.00  \n",
       "5        11.27      8.89     10.22         1.00         31.37  "
      ]
     },
     "execution_count": 9,
     "metadata": {},
     "output_type": "execute_result"
    }
   ],
   "source": [
    "#Ubah bentuk data tahun rilis dari float menjadi integer\n",
    "df['Year'] = df['Year'].astype('int')\n",
    "df.head(5)"
   ]
  },
  {
   "cell_type": "code",
   "execution_count": 10,
   "id": "c15378d9-80bd-4fdc-a3a0-302e57cccc18",
   "metadata": {},
   "outputs": [
    {
     "data": {
      "text/plain": [
       "0"
      ]
     },
     "execution_count": 10,
     "metadata": {},
     "output_type": "execute_result"
    }
   ],
   "source": [
    "#Cek data yang memiliki duplikat\n",
    "df.duplicated().sum()"
   ]
  },
  {
   "cell_type": "markdown",
   "id": "60d53b86-5eb7-4d93-b6b0-39852cda7131",
   "metadata": {
    "jp-MarkdownHeadingCollapsed": true,
    "tags": []
   },
   "source": [
    "# Exploratory Data Analysis"
   ]
  },
  {
   "cell_type": "code",
   "execution_count": 11,
   "id": "acf01308-8b96-45eb-8a87-3616198fb3e6",
   "metadata": {},
   "outputs": [
    {
     "data": {
      "image/png": "[encoded data removed]",
      "text/plain": [
       "<Figure size 1152x720 with 1 Axes>"
      ]
     },
     "metadata": {
      "needs_background": "light"
     },
     "output_type": "display_data"
    }
   ],
   "source": [
    "#Grafik penjualan berdasarkan tahun dari setiap regional\n",
    "over_year = df.groupby([\"Year\"])[\"NA_Sales\", \"JP_Sales\", 'EU_Sales','Other_Sales', 'Global_Sales'].sum()\n",
    "over_year.plot(figsize=(16,10))\n",
    "plt.title('Grafik Penjualan Berdasarkan Tahun dari setiap Regional dan Total Penjualan secara Global')\n",
    "plt.ylabel(\"Sales\")\n",
    "plt.grid()\n",
    "plt.show()"
   ]
  },
  {
   "cell_type": "markdown",
   "id": "7a1d0995-b7b2-4d77-bac2-d0a4e4ffa9a1",
   "metadata": {},
   "source": [
    "Pada grafik diatas, data penjualan game ditahun 2016 keatas hingga tahun 2020 tidak terdata, sehingga data penjualan diatas tahun 2016 akan dihilangkan."
   ]
  },
  {
   "cell_type": "code",
   "execution_count": 12,
   "id": "9fbc56e5-79cb-4372-838a-b3ab45b67800",
   "metadata": {},
   "outputs": [],
   "source": [
    "#Hilangkan data penjualan diatas tahun 2016\n",
    "df.drop(df[df['Year']>2016].index, inplace=True)"
   ]
  },
  {
   "cell_type": "code",
   "execution_count": 13,
   "id": "914bd54b-ad56-4ca0-a2cc-3c2a55328d20",
   "metadata": {},
   "outputs": [],
   "source": [
    "#Memilah data dengan categorical dan numerical\n",
    "categorical_data = ['Name', 'Platform', 'Year', 'Genre', 'Publisher']\n",
    "numerical_data = ['NA_Sales','EU_Sales', 'JP_Sales', 'Other_Sales', 'Global_Sales']"
   ]
  },
  {
   "cell_type": "code",
   "execution_count": 14,
   "id": "58c16f38-48c0-4f16-8591-3a912594078f",
   "metadata": {},
   "outputs": [],
   "source": [
    "cat_data = df[categorical_data]\n",
    "num_data = df[numerical_data]"
   ]
  },
  {
   "cell_type": "code",
   "execution_count": 15,
   "id": "b0a03421-fda2-4f8e-b362-c59f2cb49829",
   "metadata": {},
   "outputs": [
    {
     "data": {
      "text/html": [
       "<div>\n",
       "<style scoped>\n",
       "    .dataframe tbody tr th:only-of-type {\n",
       "        vertical-align: middle;\n",
       "    }\n",
       "\n",
       "    .dataframe tbody tr th {\n",
       "        vertical-align: top;\n",
       "    }\n",
       "\n",
       "    .dataframe thead th {\n",
       "        text-align: right;\n",
       "    }\n",
       "</style>\n",
       "<table border=\"1\" class=\"dataframe\">\n",
       "  <thead>\n",
       "    <tr style=\"text-align: right;\">\n",
       "      <th></th>\n",
       "      <th>Name</th>\n",
       "      <th>Platform</th>\n",
       "      <th>Year</th>\n",
       "      <th>Genre</th>\n",
       "      <th>Publisher</th>\n",
       "    </tr>\n",
       "    <tr>\n",
       "      <th>Rank</th>\n",
       "      <th></th>\n",
       "      <th></th>\n",
       "      <th></th>\n",
       "      <th></th>\n",
       "      <th></th>\n",
       "    </tr>\n",
       "  </thead>\n",
       "  <tbody>\n",
       "    <tr>\n",
       "      <th>1</th>\n",
       "      <td>Wii Sports</td>\n",
       "      <td>Wii</td>\n",
       "      <td>2006</td>\n",
       "      <td>Sports</td>\n",
       "      <td>Nintendo</td>\n",
       "    </tr>\n",
       "    <tr>\n",
       "      <th>2</th>\n",
       "      <td>Super Mario Bros.</td>\n",
       "      <td>NES</td>\n",
       "      <td>1985</td>\n",
       "      <td>Platform</td>\n",
       "      <td>Nintendo</td>\n",
       "    </tr>\n",
       "    <tr>\n",
       "      <th>3</th>\n",
       "      <td>Mario Kart Wii</td>\n",
       "      <td>Wii</td>\n",
       "      <td>2008</td>\n",
       "      <td>Racing</td>\n",
       "      <td>Nintendo</td>\n",
       "    </tr>\n",
       "    <tr>\n",
       "      <th>4</th>\n",
       "      <td>Wii Sports Resort</td>\n",
       "      <td>Wii</td>\n",
       "      <td>2009</td>\n",
       "      <td>Sports</td>\n",
       "      <td>Nintendo</td>\n",
       "    </tr>\n",
       "    <tr>\n",
       "      <th>5</th>\n",
       "      <td>Pokemon Red/Pokemon Blue</td>\n",
       "      <td>GB</td>\n",
       "      <td>1996</td>\n",
       "      <td>Role-Playing</td>\n",
       "      <td>Nintendo</td>\n",
       "    </tr>\n",
       "    <tr>\n",
       "      <th>...</th>\n",
       "      <td>...</td>\n",
       "      <td>...</td>\n",
       "      <td>...</td>\n",
       "      <td>...</td>\n",
       "      <td>...</td>\n",
       "    </tr>\n",
       "    <tr>\n",
       "      <th>16596</th>\n",
       "      <td>Woody Woodpecker in Crazy Castle 5</td>\n",
       "      <td>GBA</td>\n",
       "      <td>2002</td>\n",
       "      <td>Platform</td>\n",
       "      <td>Kemco</td>\n",
       "    </tr>\n",
       "    <tr>\n",
       "      <th>16597</th>\n",
       "      <td>Men in Black II: Alien Escape</td>\n",
       "      <td>GC</td>\n",
       "      <td>2003</td>\n",
       "      <td>Shooter</td>\n",
       "      <td>Infogrames</td>\n",
       "    </tr>\n",
       "    <tr>\n",
       "      <th>16598</th>\n",
       "      <td>SCORE International Baja 1000: The Official Game</td>\n",
       "      <td>PS2</td>\n",
       "      <td>2008</td>\n",
       "      <td>Racing</td>\n",
       "      <td>Activision</td>\n",
       "    </tr>\n",
       "    <tr>\n",
       "      <th>16599</th>\n",
       "      <td>Know How 2</td>\n",
       "      <td>DS</td>\n",
       "      <td>2010</td>\n",
       "      <td>Puzzle</td>\n",
       "      <td>7G//AMES</td>\n",
       "    </tr>\n",
       "    <tr>\n",
       "      <th>16600</th>\n",
       "      <td>Spirits &amp; Spells</td>\n",
       "      <td>GBA</td>\n",
       "      <td>2003</td>\n",
       "      <td>Platform</td>\n",
       "      <td>Wanadoo</td>\n",
       "    </tr>\n",
       "  </tbody>\n",
       "</table>\n",
       "<p>16287 rows × 5 columns</p>\n",
       "</div>"
      ],
      "text/plain": [
       "                                                   Name Platform  Year  \\\n",
       "Rank                                                                     \n",
       "1                                            Wii Sports      Wii  2006   \n",
       "2                                     Super Mario Bros.      NES  1985   \n",
       "3                                        Mario Kart Wii      Wii  2008   \n",
       "4                                     Wii Sports Resort      Wii  2009   \n",
       "5                              Pokemon Red/Pokemon Blue       GB  1996   \n",
       "...                                                 ...      ...   ...   \n",
       "16596                Woody Woodpecker in Crazy Castle 5      GBA  2002   \n",
       "16597                     Men in Black II: Alien Escape       GC  2003   \n",
       "16598  SCORE International Baja 1000: The Official Game      PS2  2008   \n",
       "16599                                        Know How 2       DS  2010   \n",
       "16600                                  Spirits & Spells      GBA  2003   \n",
       "\n",
       "              Genre   Publisher  \n",
       "Rank                             \n",
       "1            Sports    Nintendo  \n",
       "2          Platform    Nintendo  \n",
       "3            Racing    Nintendo  \n",
       "4            Sports    Nintendo  \n",
       "5      Role-Playing    Nintendo  \n",
       "...             ...         ...  \n",
       "16596      Platform       Kemco  \n",
       "16597       Shooter  Infogrames  \n",
       "16598        Racing  Activision  \n",
       "16599        Puzzle    7G//AMES  \n",
       "16600      Platform     Wanadoo  \n",
       "\n",
       "[16287 rows x 5 columns]"
      ]
     },
     "execution_count": 15,
     "metadata": {},
     "output_type": "execute_result"
    }
   ],
   "source": [
    "cat_data"
   ]
  },
  {
   "cell_type": "code",
   "execution_count": 16,
   "id": "3f81baab-3b77-4720-9a50-8e3ac73a22ba",
   "metadata": {},
   "outputs": [
    {
     "data": {
      "text/html": [
       "<div>\n",
       "<style scoped>\n",
       "    .dataframe tbody tr th:only-of-type {\n",
       "        vertical-align: middle;\n",
       "    }\n",
       "\n",
       "    .dataframe tbody tr th {\n",
       "        vertical-align: top;\n",
       "    }\n",
       "\n",
       "    .dataframe thead th {\n",
       "        text-align: right;\n",
       "    }\n",
       "</style>\n",
       "<table border=\"1\" class=\"dataframe\">\n",
       "  <thead>\n",
       "    <tr style=\"text-align: right;\">\n",
       "      <th></th>\n",
       "      <th>NA_Sales</th>\n",
       "      <th>EU_Sales</th>\n",
       "      <th>JP_Sales</th>\n",
       "      <th>Other_Sales</th>\n",
       "      <th>Global_Sales</th>\n",
       "    </tr>\n",
       "    <tr>\n",
       "      <th>Rank</th>\n",
       "      <th></th>\n",
       "      <th></th>\n",
       "      <th></th>\n",
       "      <th></th>\n",
       "      <th></th>\n",
       "    </tr>\n",
       "  </thead>\n",
       "  <tbody>\n",
       "    <tr>\n",
       "      <th>1</th>\n",
       "      <td>41.49</td>\n",
       "      <td>29.02</td>\n",
       "      <td>3.77</td>\n",
       "      <td>8.46</td>\n",
       "      <td>82.74</td>\n",
       "    </tr>\n",
       "    <tr>\n",
       "      <th>2</th>\n",
       "      <td>29.08</td>\n",
       "      <td>3.58</td>\n",
       "      <td>6.81</td>\n",
       "      <td>0.77</td>\n",
       "      <td>40.24</td>\n",
       "    </tr>\n",
       "    <tr>\n",
       "      <th>3</th>\n",
       "      <td>15.85</td>\n",
       "      <td>12.88</td>\n",
       "      <td>3.79</td>\n",
       "      <td>3.31</td>\n",
       "      <td>35.82</td>\n",
       "    </tr>\n",
       "    <tr>\n",
       "      <th>4</th>\n",
       "      <td>15.75</td>\n",
       "      <td>11.01</td>\n",
       "      <td>3.28</td>\n",
       "      <td>2.96</td>\n",
       "      <td>33.00</td>\n",
       "    </tr>\n",
       "    <tr>\n",
       "      <th>5</th>\n",
       "      <td>11.27</td>\n",
       "      <td>8.89</td>\n",
       "      <td>10.22</td>\n",
       "      <td>1.00</td>\n",
       "      <td>31.37</td>\n",
       "    </tr>\n",
       "    <tr>\n",
       "      <th>...</th>\n",
       "      <td>...</td>\n",
       "      <td>...</td>\n",
       "      <td>...</td>\n",
       "      <td>...</td>\n",
       "      <td>...</td>\n",
       "    </tr>\n",
       "    <tr>\n",
       "      <th>16596</th>\n",
       "      <td>0.01</td>\n",
       "      <td>0.00</td>\n",
       "      <td>0.00</td>\n",
       "      <td>0.00</td>\n",
       "      <td>0.01</td>\n",
       "    </tr>\n",
       "    <tr>\n",
       "      <th>16597</th>\n",
       "      <td>0.01</td>\n",
       "      <td>0.00</td>\n",
       "      <td>0.00</td>\n",
       "      <td>0.00</td>\n",
       "      <td>0.01</td>\n",
       "    </tr>\n",
       "    <tr>\n",
       "      <th>16598</th>\n",
       "      <td>0.00</td>\n",
       "      <td>0.00</td>\n",
       "      <td>0.00</td>\n",
       "      <td>0.00</td>\n",
       "      <td>0.01</td>\n",
       "    </tr>\n",
       "    <tr>\n",
       "      <th>16599</th>\n",
       "      <td>0.00</td>\n",
       "      <td>0.01</td>\n",
       "      <td>0.00</td>\n",
       "      <td>0.00</td>\n",
       "      <td>0.01</td>\n",
       "    </tr>\n",
       "    <tr>\n",
       "      <th>16600</th>\n",
       "      <td>0.01</td>\n",
       "      <td>0.00</td>\n",
       "      <td>0.00</td>\n",
       "      <td>0.00</td>\n",
       "      <td>0.01</td>\n",
       "    </tr>\n",
       "  </tbody>\n",
       "</table>\n",
       "<p>16287 rows × 5 columns</p>\n",
       "</div>"
      ],
      "text/plain": [
       "       NA_Sales  EU_Sales  JP_Sales  Other_Sales  Global_Sales\n",
       "Rank                                                          \n",
       "1         41.49     29.02      3.77         8.46         82.74\n",
       "2         29.08      3.58      6.81         0.77         40.24\n",
       "3         15.85     12.88      3.79         3.31         35.82\n",
       "4         15.75     11.01      3.28         2.96         33.00\n",
       "5         11.27      8.89     10.22         1.00         31.37\n",
       "...         ...       ...       ...          ...           ...\n",
       "16596      0.01      0.00      0.00         0.00          0.01\n",
       "16597      0.01      0.00      0.00         0.00          0.01\n",
       "16598      0.00      0.00      0.00         0.00          0.01\n",
       "16599      0.00      0.01      0.00         0.00          0.01\n",
       "16600      0.01      0.00      0.00         0.00          0.01\n",
       "\n",
       "[16287 rows x 5 columns]"
      ]
     },
     "execution_count": 16,
     "metadata": {},
     "output_type": "execute_result"
    }
   ],
   "source": [
    "num_data"
   ]
  },
  {
   "cell_type": "code",
   "execution_count": 17,
   "id": "d0fc7c08-c2ca-4c0a-81a2-f370f77cf1ac",
   "metadata": {},
   "outputs": [
    {
     "data": {
      "text/html": [
       "<div>\n",
       "<style scoped>\n",
       "    .dataframe tbody tr th:only-of-type {\n",
       "        vertical-align: middle;\n",
       "    }\n",
       "\n",
       "    .dataframe tbody tr th {\n",
       "        vertical-align: top;\n",
       "    }\n",
       "\n",
       "    .dataframe thead th {\n",
       "        text-align: right;\n",
       "    }\n",
       "</style>\n",
       "<table border=\"1\" class=\"dataframe\">\n",
       "  <thead>\n",
       "    <tr style=\"text-align: right;\">\n",
       "      <th></th>\n",
       "      <th>NA_Sales</th>\n",
       "      <th>EU_Sales</th>\n",
       "      <th>JP_Sales</th>\n",
       "      <th>Other_Sales</th>\n",
       "      <th>Global_Sales</th>\n",
       "    </tr>\n",
       "  </thead>\n",
       "  <tbody>\n",
       "    <tr>\n",
       "      <th>count</th>\n",
       "      <td>16287.000000</td>\n",
       "      <td>16287.000000</td>\n",
       "      <td>16287.000000</td>\n",
       "      <td>16287.000000</td>\n",
       "      <td>16287.000000</td>\n",
       "    </tr>\n",
       "    <tr>\n",
       "      <th>mean</th>\n",
       "      <td>0.265695</td>\n",
       "      <td>0.147768</td>\n",
       "      <td>0.078849</td>\n",
       "      <td>0.048437</td>\n",
       "      <td>0.541022</td>\n",
       "    </tr>\n",
       "    <tr>\n",
       "      <th>std</th>\n",
       "      <td>0.822525</td>\n",
       "      <td>0.509360</td>\n",
       "      <td>0.311916</td>\n",
       "      <td>0.190105</td>\n",
       "      <td>1.567520</td>\n",
       "    </tr>\n",
       "    <tr>\n",
       "      <th>min</th>\n",
       "      <td>0.000000</td>\n",
       "      <td>0.000000</td>\n",
       "      <td>0.000000</td>\n",
       "      <td>0.000000</td>\n",
       "      <td>0.010000</td>\n",
       "    </tr>\n",
       "    <tr>\n",
       "      <th>25%</th>\n",
       "      <td>0.000000</td>\n",
       "      <td>0.000000</td>\n",
       "      <td>0.000000</td>\n",
       "      <td>0.000000</td>\n",
       "      <td>0.060000</td>\n",
       "    </tr>\n",
       "    <tr>\n",
       "      <th>50%</th>\n",
       "      <td>0.080000</td>\n",
       "      <td>0.020000</td>\n",
       "      <td>0.000000</td>\n",
       "      <td>0.010000</td>\n",
       "      <td>0.170000</td>\n",
       "    </tr>\n",
       "    <tr>\n",
       "      <th>75%</th>\n",
       "      <td>0.240000</td>\n",
       "      <td>0.110000</td>\n",
       "      <td>0.040000</td>\n",
       "      <td>0.040000</td>\n",
       "      <td>0.480000</td>\n",
       "    </tr>\n",
       "    <tr>\n",
       "      <th>max</th>\n",
       "      <td>41.490000</td>\n",
       "      <td>29.020000</td>\n",
       "      <td>10.220000</td>\n",
       "      <td>10.570000</td>\n",
       "      <td>82.740000</td>\n",
       "    </tr>\n",
       "  </tbody>\n",
       "</table>\n",
       "</div>"
      ],
      "text/plain": [
       "           NA_Sales      EU_Sales      JP_Sales   Other_Sales  Global_Sales\n",
       "count  16287.000000  16287.000000  16287.000000  16287.000000  16287.000000\n",
       "mean       0.265695      0.147768      0.078849      0.048437      0.541022\n",
       "std        0.822525      0.509360      0.311916      0.190105      1.567520\n",
       "min        0.000000      0.000000      0.000000      0.000000      0.010000\n",
       "25%        0.000000      0.000000      0.000000      0.000000      0.060000\n",
       "50%        0.080000      0.020000      0.000000      0.010000      0.170000\n",
       "75%        0.240000      0.110000      0.040000      0.040000      0.480000\n",
       "max       41.490000     29.020000     10.220000     10.570000     82.740000"
      ]
     },
     "execution_count": 17,
     "metadata": {},
     "output_type": "execute_result"
    }
   ],
   "source": [
    "#Cek deskripsi penjualan secara statistik\n",
    "num_data.describe(include='all')"
   ]
  },
  {
   "cell_type": "code",
   "execution_count": 18,
   "id": "cf1f3a99-e4d5-4b65-aa23-aea6c4d13d61",
   "metadata": {},
   "outputs": [
    {
     "data": {
      "text/plain": [
       "NA_Sales        0.08\n",
       "EU_Sales        0.02\n",
       "JP_Sales        0.00\n",
       "Other_Sales     0.01\n",
       "Global_Sales    0.17\n",
       "dtype: float64"
      ]
     },
     "execution_count": 18,
     "metadata": {},
     "output_type": "execute_result"
    }
   ],
   "source": [
    "num_data.median()"
   ]
  },
  {
   "cell_type": "code",
   "execution_count": 19,
   "id": "bdc9b521-86d6-4221-a473-9f1d68728689",
   "metadata": {},
   "outputs": [
    {
     "data": {
      "image/png": "[encoded data removed]",
      "text/plain": [
       "<Figure size 576x432 with 2 Axes>"
      ]
     },
     "metadata": {
      "needs_background": "light"
     },
     "output_type": "display_data"
    }
   ],
   "source": [
    "#Korelasi variable\n",
    "fig,ax=plt.subplots(figsize=(8,6))\n",
    "sns.heatmap(num_data.corr().round(3), annot=True, cmap='OrRd', ax=ax)\n",
    "ax.set_title('Korelasi Variable', fontsize=15);"
   ]
  },
  {
   "cell_type": "markdown",
   "id": "21860297-6a91-4bcf-bb63-c03317fa13e4",
   "metadata": {},
   "source": [
    "- Korelasi paling tinggi diperoleh dari penjualan regional NA dan Global yaitu 0.94.\n",
    "- Penjualan regional NA dan Global dapat dijadikan sebagai acuan untuk penilaian."
   ]
  },
  {
   "cell_type": "markdown",
   "id": "26f61a73-d528-4b38-90b3-2cfcad31acf0",
   "metadata": {},
   "source": [
    "Lalu, bagaimana distribusi penjualan pada data dari setiap regional dan secara global?"
   ]
  },
  {
   "cell_type": "code",
   "execution_count": 20,
   "id": "1cdf2c52-deb8-47c9-93ef-54c0d65ed515",
   "metadata": {},
   "outputs": [
    {
     "data": {
      "text/plain": [
       "''"
      ]
     },
     "execution_count": 20,
     "metadata": {},
     "output_type": "execute_result"
    },
    {
     "data": {
      "image/png": "[encoded data removed]",
      "text/plain": [
       "<Figure size 1080x1080 with 6 Axes>"
      ]
     },
     "metadata": {
      "needs_background": "light"
     },
     "output_type": "display_data"
    }
   ],
   "source": [
    "#Distribusi hasil penjualan dari regional dan global\n",
    "num_data.hist(figsize=(15,15),bins=70)\n",
    "plt.tight_layout()\n",
    ";"
   ]
  },
  {
   "cell_type": "markdown",
   "id": "81b23d78-524c-49c3-9fd7-9adcf2694f74",
   "metadata": {},
   "source": [
    "Dari hasil grafik histogram diatas, diperoleh informasi sebagai berikut:\n",
    "- Distribusi game lebih banyak berada direntang <0.1 million dikarenakan banyak publisher merilis berbagai macam game dan tidak semua memiliki tingkat penjualan yang tinggi.\n",
    "- Data dari histogram tersebut merupakan 'Right-Skewed'"
   ]
  },
  {
   "cell_type": "code",
   "execution_count": 21,
   "id": "0260ff0f-e530-4c60-b225-6be3a4de2437",
   "metadata": {},
   "outputs": [
    {
     "data": {
      "image/png": "[encoded data removed]",
      "text/plain": [
       "<Figure size 1080x1440 with 5 Axes>"
      ]
     },
     "metadata": {
      "needs_background": "light"
     },
     "output_type": "display_data"
    }
   ],
   "source": [
    "#Visualisasi dengan Boxplot\n",
    "red_circle = dict(markerfacecolor='red', marker='o', markeredgecolor='white')\n",
    "\n",
    "fig, axs = plt.subplots(1, len(num_data.columns), figsize=(15,20))\n",
    "\n",
    "for i, ax in enumerate(axs.flat):\n",
    "    ax.boxplot(num_data.iloc[:,i], flierprops=red_circle)\n",
    "    num_data.iloc[:,i]\n",
    "    ax.set_title(num_data.columns[i], fontsize=20, fontweight='bold')\n",
    "    ax.tick_params(axis='y', labelsize=14)\n",
    "    \n",
    "plt.tight_layout()"
   ]
  },
  {
   "cell_type": "code",
   "execution_count": 22,
   "id": "f929d5d6-8c81-4fff-8724-331763d58243",
   "metadata": {},
   "outputs": [],
   "source": [
    "#Inter quartile range (IQR) method\n",
    "Q1 = num_data.quantile(0.25)\n",
    "Q3 = num_data.quantile(0.75)\n",
    "IQR = Q3 - Q1"
   ]
  },
  {
   "cell_type": "code",
   "execution_count": 23,
   "id": "6ac5c3fd-b747-4d29-94ce-a7a2e152843d",
   "metadata": {},
   "outputs": [
    {
     "data": {
      "text/plain": [
       "NA_Sales        0.00\n",
       "EU_Sales        0.00\n",
       "JP_Sales        0.00\n",
       "Other_Sales     0.00\n",
       "Global_Sales    0.06\n",
       "Name: 0.25, dtype: float64"
      ]
     },
     "execution_count": 23,
     "metadata": {},
     "output_type": "execute_result"
    }
   ],
   "source": [
    "Q1"
   ]
  },
  {
   "cell_type": "code",
   "execution_count": 24,
   "id": "fd6bcdcf-d959-4a18-880f-47f38a1005d1",
   "metadata": {},
   "outputs": [
    {
     "data": {
      "text/plain": [
       "NA_Sales        0.24\n",
       "EU_Sales        0.11\n",
       "JP_Sales        0.04\n",
       "Other_Sales     0.04\n",
       "Global_Sales    0.48\n",
       "Name: 0.75, dtype: float64"
      ]
     },
     "execution_count": 24,
     "metadata": {},
     "output_type": "execute_result"
    }
   ],
   "source": [
    "Q3"
   ]
  },
  {
   "cell_type": "code",
   "execution_count": 25,
   "id": "e288323d-0ea3-43b5-9dfb-ff180630b3e8",
   "metadata": {},
   "outputs": [
    {
     "data": {
      "text/plain": [
       "NA_Sales        0.24\n",
       "EU_Sales        0.11\n",
       "JP_Sales        0.04\n",
       "Other_Sales     0.04\n",
       "Global_Sales    0.42\n",
       "dtype: float64"
      ]
     },
     "execution_count": 25,
     "metadata": {},
     "output_type": "execute_result"
    }
   ],
   "source": [
    "IQR"
   ]
  },
  {
   "cell_type": "code",
   "execution_count": 26,
   "id": "d4ec5d7c-6bf5-4edb-802b-bb6613d18e52",
   "metadata": {},
   "outputs": [],
   "source": [
    "min_IQR = Q1 - 1.5 * IQR\n",
    "max_IQR = Q3 + 1.5 * IQR"
   ]
  },
  {
   "cell_type": "code",
   "execution_count": 27,
   "id": "d30b3bc5-c855-4fbe-80ae-82f5ba0d5fe0",
   "metadata": {},
   "outputs": [
    {
     "data": {
      "text/plain": [
       "NA_Sales       -0.360\n",
       "EU_Sales       -0.165\n",
       "JP_Sales       -0.060\n",
       "Other_Sales    -0.060\n",
       "Global_Sales   -0.570\n",
       "dtype: float64"
      ]
     },
     "execution_count": 27,
     "metadata": {},
     "output_type": "execute_result"
    }
   ],
   "source": [
    "min_IQR"
   ]
  },
  {
   "cell_type": "code",
   "execution_count": 28,
   "id": "b65bf5ae-c418-4aca-a7cc-60211d6cdb29",
   "metadata": {},
   "outputs": [
    {
     "data": {
      "text/plain": [
       "NA_Sales        0.600\n",
       "EU_Sales        0.275\n",
       "JP_Sales        0.100\n",
       "Other_Sales     0.100\n",
       "Global_Sales    1.110\n",
       "dtype: float64"
      ]
     },
     "execution_count": 28,
     "metadata": {},
     "output_type": "execute_result"
    }
   ],
   "source": [
    "max_IQR"
   ]
  },
  {
   "cell_type": "code",
   "execution_count": 29,
   "id": "6fdde2fb-fc4f-499a-a8ed-d92517d6f731",
   "metadata": {},
   "outputs": [],
   "source": [
    "nilai_min = num_data.min()\n",
    "nilai_max = num_data.max()"
   ]
  },
  {
   "cell_type": "code",
   "execution_count": 30,
   "id": "deb374bc-581a-41e8-be8b-ebdf0a6ab526",
   "metadata": {},
   "outputs": [
    {
     "data": {
      "text/plain": [
       "NA_Sales        0.00\n",
       "EU_Sales        0.00\n",
       "JP_Sales        0.00\n",
       "Other_Sales     0.00\n",
       "Global_Sales    0.01\n",
       "dtype: float64"
      ]
     },
     "execution_count": 30,
     "metadata": {},
     "output_type": "execute_result"
    }
   ],
   "source": [
    "nilai_min"
   ]
  },
  {
   "cell_type": "code",
   "execution_count": 31,
   "id": "60c9ef4f-5013-49b3-b512-afcf090065bd",
   "metadata": {},
   "outputs": [
    {
     "data": {
      "text/plain": [
       "NA_Sales        41.49\n",
       "EU_Sales        29.02\n",
       "JP_Sales        10.22\n",
       "Other_Sales     10.57\n",
       "Global_Sales    82.74\n",
       "dtype: float64"
      ]
     },
     "execution_count": 31,
     "metadata": {},
     "output_type": "execute_result"
    }
   ],
   "source": [
    "nilai_max"
   ]
  },
  {
   "cell_type": "markdown",
   "id": "540932b3-8a6d-4c45-a6ff-d40e72c71f92",
   "metadata": {},
   "source": [
    "# TOP SELLING"
   ]
  },
  {
   "cell_type": "code",
   "execution_count": 32,
   "id": "e340f2ed-47d1-4985-93e2-6a449780e29c",
   "metadata": {},
   "outputs": [
    {
     "data": {
      "image/png": "[encoded data removed]",
      "text/plain": [
       "<Figure size 864x648 with 1 Axes>"
      ]
     },
     "metadata": {
      "needs_background": "light"
     },
     "output_type": "display_data"
    }
   ],
   "source": [
    "top_10_games = df.sort_values(\"Global_Sales\",ascending=False).head(10)\n",
    "\n",
    "plt.figure(figsize=(12,9))\n",
    "sns.barplot(y=top_10_games.Name, x=top_10_games.Global_Sales)\n",
    "plt.title(\"Top 10 Games\")\n",
    "plt.ylabel('')\n",
    "plt.xlabel('Global Sales in millions')\n",
    "plt.show()"
   ]
  },
  {
   "cell_type": "code",
   "execution_count": 33,
   "id": "938f98e7-b106-4857-b9fa-8941b46d2e8f",
   "metadata": {},
   "outputs": [],
   "source": [
    "top_10_publishers = df['Publisher'].value_counts()\n",
    "top_10_publishers = top_10_publishers.head(10)\n",
    "\n",
    "top_10_publishers_sales = df.groupby('Publisher').sum().sort_values(by='Global_Sales',ascending=False)['Global_Sales'].head(10)"
   ]
  },
  {
   "cell_type": "code",
   "execution_count": 34,
   "id": "4ac7fc77-6360-4c3f-8d7c-379b41572881",
   "metadata": {},
   "outputs": [
    {
     "data": {
      "text/plain": [
       "Electronic Arts                 1339\n",
       "Activision                       966\n",
       "Namco Bandai Games               928\n",
       "Ubisoft                          917\n",
       "Konami Digital Entertainment     823\n",
       "THQ                              712\n",
       "Nintendo                         696\n",
       "Sony Computer Entertainment      682\n",
       "Sega                             630\n",
       "Take-Two Interactive             412\n",
       "Name: Publisher, dtype: int64"
      ]
     },
     "execution_count": 34,
     "metadata": {},
     "output_type": "execute_result"
    }
   ],
   "source": [
    "top_10_publishers"
   ]
  },
  {
   "cell_type": "code",
   "execution_count": 35,
   "id": "10505868-4717-43d3-a08f-94b4deb0fc55",
   "metadata": {},
   "outputs": [
    {
     "data": {
      "text/plain": [
       "8105"
      ]
     },
     "execution_count": 35,
     "metadata": {},
     "output_type": "execute_result"
    }
   ],
   "source": [
    "top_10_publishers.sum()"
   ]
  },
  {
   "cell_type": "code",
   "execution_count": 36,
   "id": "bf35dcca-41c1-4e32-84ed-50a0ff000de5",
   "metadata": {},
   "outputs": [
    {
     "data": {
      "text/plain": [
       "Publisher\n",
       "Nintendo                        1784.43\n",
       "Electronic Arts                 1093.39\n",
       "Activision                       721.41\n",
       "Sony Computer Entertainment      607.28\n",
       "Ubisoft                          473.25\n",
       "Take-Two Interactive             399.30\n",
       "THQ                              340.44\n",
       "Konami Digital Entertainment     278.56\n",
       "Sega                             270.66\n",
       "Namco Bandai Games               253.65\n",
       "Name: Global_Sales, dtype: float64"
      ]
     },
     "execution_count": 36,
     "metadata": {},
     "output_type": "execute_result"
    }
   ],
   "source": [
    "top_10_publishers_sales"
   ]
  },
  {
   "cell_type": "code",
   "execution_count": 37,
   "id": "0f4d34c0-02d5-43a9-bb99-9325140042e4",
   "metadata": {},
   "outputs": [
    {
     "data": {
      "text/plain": [
       "6222.37"
      ]
     },
     "execution_count": 37,
     "metadata": {},
     "output_type": "execute_result"
    }
   ],
   "source": [
    "top_10_publishers_sales.sum()"
   ]
  },
  {
   "cell_type": "code",
   "execution_count": 38,
   "id": "58eda26f-cc81-4df3-b81e-35ccf4d142a3",
   "metadata": {},
   "outputs": [
    {
     "data": {
      "image/png": "[encoded data removed]",
      "text/plain": [
       "<Figure size 720x720 with 2 Axes>"
      ]
     },
     "metadata": {
      "needs_background": "light"
     },
     "output_type": "display_data"
    }
   ],
   "source": [
    "fig, ax = plt.subplots(1,2,figsize=(10,10), gridspec_kw=dict(width_ratios=[10,10]))\n",
    "\n",
    "sns.barplot(y=top_10_publishers.index, x=top_10_publishers, ax=ax[0])\n",
    "ax[0].set_title(\"Top 10 Publishers by Titles\")\n",
    "plt.xlabel(\"Titles\")\n",
    "\n",
    "\n",
    "sns.barplot(y=top_10_publishers_sales.index, x=top_10_publishers_sales, ax=ax[1])\n",
    "ax[1].set_title(\"Top 10 Publishers by Sales\")\n",
    "plt.ylabel('')\n",
    "\n",
    "plt.subplots_adjust(left=0.1, bottom=0.05, right=0.9, top=0.9, wspace=1.85, hspace=0.35)\n",
    "plt.show()"
   ]
  },
  {
   "cell_type": "code",
   "execution_count": 39,
   "id": "167b055e-9a35-48cb-90df-cd35325d3e84",
   "metadata": {},
   "outputs": [],
   "source": [
    "top_10_platforms = df['Platform'].value_counts()\n",
    "top_10_platforms = top_10_platforms.head(10)\n",
    "\n",
    "top_10_platforms_sales = df.groupby('Platform').sum().sort_values(by='Global_Sales',ascending=False)['Global_Sales'].head(10)"
   ]
  },
  {
   "cell_type": "code",
   "execution_count": 40,
   "id": "24a2dc7b-a6e6-4236-bccc-71df18eee18a",
   "metadata": {},
   "outputs": [
    {
     "data": {
      "text/plain": [
       "DS      2130\n",
       "PS2     2127\n",
       "PS3     1304\n",
       "Wii     1290\n",
       "X360    1234\n",
       "PSP     1197\n",
       "PS      1189\n",
       "PC       938\n",
       "XB       803\n",
       "GBA      786\n",
       "Name: Platform, dtype: int64"
      ]
     },
     "execution_count": 40,
     "metadata": {},
     "output_type": "execute_result"
    }
   ],
   "source": [
    "top_10_platforms"
   ]
  },
  {
   "cell_type": "code",
   "execution_count": 41,
   "id": "aad7c081-37d7-4d1c-88d3-a7ca9d0aa349",
   "metadata": {},
   "outputs": [
    {
     "data": {
      "text/plain": [
       "12998"
      ]
     },
     "execution_count": 41,
     "metadata": {},
     "output_type": "execute_result"
    }
   ],
   "source": [
    "top_10_platforms.sum()"
   ]
  },
  {
   "cell_type": "code",
   "execution_count": 42,
   "id": "a8c49f82-1acd-4052-ae3b-93ade47614c7",
   "metadata": {},
   "outputs": [
    {
     "data": {
      "text/plain": [
       "Platform\n",
       "PS2     1233.46\n",
       "X360     969.60\n",
       "PS3      949.35\n",
       "Wii      909.81\n",
       "DS       818.62\n",
       "PS       727.39\n",
       "GBA      305.62\n",
       "PSP      291.71\n",
       "PS4      278.07\n",
       "PC       254.70\n",
       "Name: Global_Sales, dtype: float64"
      ]
     },
     "execution_count": 42,
     "metadata": {},
     "output_type": "execute_result"
    }
   ],
   "source": [
    "top_10_platforms_sales"
   ]
  },
  {
   "cell_type": "code",
   "execution_count": 43,
   "id": "8223b8b8-345f-4901-9ceb-e0fb479a83bd",
   "metadata": {},
   "outputs": [
    {
     "data": {
      "text/plain": [
       "6738.329999999999"
      ]
     },
     "execution_count": 43,
     "metadata": {},
     "output_type": "execute_result"
    }
   ],
   "source": [
    "top_10_platforms_sales.sum()"
   ]
  },
  {
   "cell_type": "code",
   "execution_count": 44,
   "id": "43477743-6541-486f-9bb6-23824c5ef0c3",
   "metadata": {},
   "outputs": [
    {
     "data": {
      "image/png": "[encoded data removed]",
      "text/plain": [
       "<Figure size 1008x720 with 4 Axes>"
      ]
     },
     "metadata": {
      "needs_background": "light"
     },
     "output_type": "display_data"
    }
   ],
   "source": [
    "fig, ax = plt.subplots(2,2,figsize=(14,10), gridspec_kw=dict(width_ratios=[4,5]))\n",
    "\n",
    "sns.barplot(y=top_10_platforms.index, x=top_10_platforms,ax=ax[0,0])\n",
    "plt.title(\"Top 10 Platforms\")\n",
    "ax[0,1].pie(top_10_platforms, labels=top_10_platforms.index, autopct=\"%.0f%%\")\n",
    "plt.title(\"Top 10 Platforms\")\n",
    "\n",
    "sns.barplot(y=top_10_platforms_sales.index, x=top_10_platforms_sales,ax=ax[1,0])\n",
    "plt.title(\"Top 10 Platforms\")\n",
    "ax[1,1].pie(top_10_platforms_sales, labels=top_10_platforms_sales.index, autopct=\"%.0f%%\")\n",
    "plt.title(\"Top 10 Platforms\")\n",
    "\n",
    "fig.tight_layout()"
   ]
  },
  {
   "cell_type": "code",
   "execution_count": 45,
   "id": "d0c02ca5-de8a-43fe-b92a-18edd536601e",
   "metadata": {},
   "outputs": [],
   "source": [
    "top_10_genre =  df['Genre'].value_counts()\n",
    "top_10_genre = top_10_genre.head(10)\n",
    "\n",
    "top_10_genre_sales = df.groupby('Genre').sum().sort_values(by='Global_Sales',ascending=False)['Global_Sales'].head(10)"
   ]
  },
  {
   "cell_type": "code",
   "execution_count": 46,
   "id": "db39219f-9408-43be-901e-a2f2999f012b",
   "metadata": {},
   "outputs": [
    {
     "data": {
      "text/plain": [
       "Action          3250\n",
       "Sports          2304\n",
       "Misc            1686\n",
       "Role-Playing    1468\n",
       "Shooter         1282\n",
       "Adventure       1274\n",
       "Racing          1225\n",
       "Platform         875\n",
       "Simulation       847\n",
       "Fighting         836\n",
       "Name: Genre, dtype: int64"
      ]
     },
     "execution_count": 46,
     "metadata": {},
     "output_type": "execute_result"
    }
   ],
   "source": [
    "top_10_genre"
   ]
  },
  {
   "cell_type": "code",
   "execution_count": 47,
   "id": "6154b11e-32e2-48c5-bc8d-08d9371c4c0e",
   "metadata": {},
   "outputs": [
    {
     "data": {
      "text/plain": [
       "15047"
      ]
     },
     "execution_count": 47,
     "metadata": {},
     "output_type": "execute_result"
    }
   ],
   "source": [
    "top_10_genre.sum()"
   ]
  },
  {
   "cell_type": "code",
   "execution_count": 48,
   "id": "28c66743-45f2-4d13-9c1b-c475eb8ee372",
   "metadata": {},
   "outputs": [
    {
     "data": {
      "text/plain": [
       "Genre\n",
       "Action          1722.83\n",
       "Sports          1309.24\n",
       "Shooter         1026.20\n",
       "Role-Playing     923.79\n",
       "Platform         829.13\n",
       "Misc             789.87\n",
       "Racing           726.76\n",
       "Fighting         444.05\n",
       "Simulation       389.69\n",
       "Puzzle           242.21\n",
       "Name: Global_Sales, dtype: float64"
      ]
     },
     "execution_count": 48,
     "metadata": {},
     "output_type": "execute_result"
    }
   ],
   "source": [
    "top_10_genre_sales"
   ]
  },
  {
   "cell_type": "code",
   "execution_count": 49,
   "id": "92474339-b8c9-41e9-b35a-4495e8b443b8",
   "metadata": {},
   "outputs": [
    {
     "data": {
      "text/plain": [
       "8403.769999999999"
      ]
     },
     "execution_count": 49,
     "metadata": {},
     "output_type": "execute_result"
    }
   ],
   "source": [
    "top_10_genre_sales.sum()"
   ]
  },
  {
   "cell_type": "code",
   "execution_count": 50,
   "id": "2aa02bbe-bb09-487e-b180-567a888ea138",
   "metadata": {},
   "outputs": [
    {
     "data": {
      "image/png": "[encoded data removed]",
      "text/plain": [
       "<Figure size 720x720 with 2 Axes>"
      ]
     },
     "metadata": {
      "needs_background": "light"
     },
     "output_type": "display_data"
    }
   ],
   "source": [
    "fig, ax = plt.subplots(1,2,figsize=(10,10), gridspec_kw=dict(width_ratios=[10,10]))\n",
    "\n",
    "sns.barplot(y=top_10_genre.index, x=top_10_genre, ax=ax[0])\n",
    "ax[0].set_title(\"Number of type games\")\n",
    "plt.xlabel('Amount of Games by type')\n",
    "\n",
    "sns.barplot(y=top_10_genre_sales.index, x=top_10_genre_sales,ax=ax[1])\n",
    "ax[1].set_title(\"Number of Sales games by type\")\n",
    "plt.ylabel('')\n",
    "plt.subplots_adjust(left=0.1, bottom=0.05, right=0.9, top=0.9, wspace=1.85, hspace=0.35)\n",
    "plt.show()"
   ]
  },
  {
   "cell_type": "markdown",
   "id": "9570b4a7-4b3b-4ffe-84dd-e3ae01293368",
   "metadata": {
    "tags": []
   },
   "source": [
    "# Case :\n",
    "- Publisher mana yang paling banyak melakukan penjualan?\n",
    "- Game apa yang paling banyak terjual secara global?\n",
    "- Genre game yang paling diminati?\n",
    "- Platform game apa yang paling banyak dimainkan?"
   ]
  },
  {
   "cell_type": "code",
   "execution_count": 51,
   "id": "f9337479-2c97-4ba8-b045-91c1bd6a837d",
   "metadata": {},
   "outputs": [
    {
     "data": {
      "text/plain": [
       "Publisher\n",
       "Nintendo                        1784.43\n",
       "Electronic Arts                 1093.39\n",
       "Activision                       721.41\n",
       "Sony Computer Entertainment      607.28\n",
       "Ubisoft                          473.25\n",
       "Take-Two Interactive             399.30\n",
       "THQ                              340.44\n",
       "Konami Digital Entertainment     278.56\n",
       "Sega                             270.66\n",
       "Namco Bandai Games               253.65\n",
       "Name: Global_Sales, dtype: float64"
      ]
     },
     "execution_count": 51,
     "metadata": {},
     "output_type": "execute_result"
    }
   ],
   "source": [
    "#Publisher mana yang paling banyak melakukan penjualan?\n",
    "top_publisher = df.groupby('Publisher')[['NA_Sales','EU_Sales','JP_Sales','Other_Sales','Global_Sales']].sum().sort_values(by='Global_Sales',ascending=False)['Global_Sales'].head(10)\n",
    "top_publisher"
   ]
  },
  {
   "cell_type": "code",
   "execution_count": 52,
   "id": "6121d646-b04e-4ac5-bc5b-aa8565e8ba82",
   "metadata": {},
   "outputs": [
    {
     "data": {
      "text/plain": [
       "6222.37"
      ]
     },
     "execution_count": 52,
     "metadata": {},
     "output_type": "execute_result"
    }
   ],
   "source": [
    "top_publisher.sum()"
   ]
  },
  {
   "cell_type": "code",
   "execution_count": 53,
   "id": "4995ab1f-d436-4e8f-8b52-ad8f85acb4df",
   "metadata": {},
   "outputs": [
    {
     "data": {
      "text/plain": [
       "Name                       Platform  Year  Genre         Publisher\n",
       "Wii Sports                 Wii       2006  Sports        Nintendo     82.74\n",
       "Super Mario Bros.          NES       1985  Platform      Nintendo     40.24\n",
       "Mario Kart Wii             Wii       2008  Racing        Nintendo     35.82\n",
       "Wii Sports Resort          Wii       2009  Sports        Nintendo     33.00\n",
       "Pokemon Red/Pokemon Blue   GB        1996  Role-Playing  Nintendo     31.37\n",
       "Tetris                     GB        1989  Puzzle        Nintendo     30.26\n",
       "New Super Mario Bros.      DS        2006  Platform      Nintendo     30.01\n",
       "Wii Play                   Wii       2006  Misc          Nintendo     29.02\n",
       "New Super Mario Bros. Wii  Wii       2009  Platform      Nintendo     28.62\n",
       "Duck Hunt                  NES       1984  Shooter       Nintendo     28.31\n",
       "Name: Global_Sales, dtype: float64"
      ]
     },
     "execution_count": 53,
     "metadata": {},
     "output_type": "execute_result"
    }
   ],
   "source": [
    "#Game apa yang paling banyak terjual secara global?\n",
    "top_game = df.groupby(['Name','Platform','Year','Genre','Publisher'])[['Global_Sales']].sum().sort_values(by='Global_Sales',ascending=False)['Global_Sales'].head(10)\n",
    "top_game"
   ]
  },
  {
   "cell_type": "code",
   "execution_count": 54,
   "id": "65c30b96-f6ad-4836-8767-82e5f47aaa6e",
   "metadata": {},
   "outputs": [
    {
     "data": {
      "text/plain": [
       "369.39"
      ]
     },
     "execution_count": 54,
     "metadata": {},
     "output_type": "execute_result"
    }
   ],
   "source": [
    "top_game.sum()"
   ]
  },
  {
   "cell_type": "code",
   "execution_count": 55,
   "id": "d2e7152f-d4a1-4ba1-94ba-5970b24d7e0f",
   "metadata": {},
   "outputs": [
    {
     "data": {
      "text/plain": [
       "Genre\n",
       "Action          1722.83\n",
       "Sports          1309.24\n",
       "Shooter         1026.20\n",
       "Role-Playing     923.79\n",
       "Platform         829.13\n",
       "Misc             789.87\n",
       "Racing           726.76\n",
       "Fighting         444.05\n",
       "Simulation       389.69\n",
       "Puzzle           242.21\n",
       "Name: Global_Sales, dtype: float64"
      ]
     },
     "execution_count": 55,
     "metadata": {},
     "output_type": "execute_result"
    }
   ],
   "source": [
    "#Genre game yang paling diminati?\n",
    "top_genre = df.groupby('Genre')[['NA_Sales','EU_Sales','JP_Sales','Other_Sales','Global_Sales']].sum().sort_values(by='Global_Sales',ascending=False)['Global_Sales'].head(10)\n",
    "top_genre"
   ]
  },
  {
   "cell_type": "code",
   "execution_count": 56,
   "id": "4ab1c392-3b5f-4a87-ba5e-5d3a94eaef04",
   "metadata": {},
   "outputs": [
    {
     "data": {
      "text/plain": [
       "8403.769999999999"
      ]
     },
     "execution_count": 56,
     "metadata": {},
     "output_type": "execute_result"
    }
   ],
   "source": [
    "top_genre.sum()"
   ]
  },
  {
   "cell_type": "code",
   "execution_count": 57,
   "id": "4c7611ad-9064-40d3-a913-862968cec985",
   "metadata": {},
   "outputs": [
    {
     "data": {
      "text/plain": [
       "Platform\n",
       "PS2     1233.46\n",
       "X360     969.60\n",
       "PS3      949.35\n",
       "Wii      909.81\n",
       "DS       818.62\n",
       "PS       727.39\n",
       "GBA      305.62\n",
       "PSP      291.71\n",
       "PS4      278.07\n",
       "PC       254.70\n",
       "Name: Global_Sales, dtype: float64"
      ]
     },
     "execution_count": 57,
     "metadata": {},
     "output_type": "execute_result"
    }
   ],
   "source": [
    "#Platform game apa yang paling banyak dimainkan?\n",
    "top_platform = df.groupby('Platform')[['NA_Sales','EU_Sales','JP_Sales','Other_Sales','Global_Sales']].sum().sort_values(by='Global_Sales',ascending=False)['Global_Sales'].head(10)\n",
    "top_platform"
   ]
  },
  {
   "cell_type": "code",
   "execution_count": 58,
   "id": "76554a0d-ea04-4d04-83c2-2675d00f43da",
   "metadata": {},
   "outputs": [
    {
     "data": {
      "text/plain": [
       "6738.329999999999"
      ]
     },
     "execution_count": 58,
     "metadata": {},
     "output_type": "execute_result"
    }
   ],
   "source": [
    "top_platform.sum()"
   ]
  },
  {
   "cell_type": "code",
   "execution_count": null,
   "id": "63e610f8-7fc8-4b84-adb2-44d290951e47",
   "metadata": {},
   "outputs": [],
   "source": []
  }
 ],
 "metadata": {
  "kernelspec": {
   "display_name": "Python 3 (ipykernel)",
   "language": "python",
   "name": "python3"
  },
  "language_info": {
   "codemirror_mode": {
    "name": "ipython",
    "version": 3
   },
   "file_extension": ".py",
   "mimetype": "text/x-python",
   "name": "python",
   "nbconvert_exporter": "python",
   "pygments_lexer": "ipython3",
   "version": "3.9.10"
  }
 },
 "nbformat": 4,
 "nbformat_minor": 5
}
